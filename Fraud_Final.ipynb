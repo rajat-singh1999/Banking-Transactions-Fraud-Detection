{
  "nbformat": 4,
  "nbformat_minor": 0,
  "metadata": {
    "colab": {
      "provenance": []
    },
    "kernelspec": {
      "name": "python3",
      "display_name": "Python 3"
    },
    "language_info": {
      "name": "python"
    }
  },
  "cells": [
    {
      "cell_type": "markdown",
      "source": [
        "# Fraud Detection Analysis"
      ],
      "metadata": {
        "id": "eKbNa_RRJvkW"
      }
    },
    {
      "cell_type": "markdown",
      "source": [
        "# Importing All the necessary libraries"
      ],
      "metadata": {
        "id": "-_EOD9Jul_cH"
      }
    },
    {
      "cell_type": "code",
      "execution_count": 33,
      "metadata": {
        "id": "wdCQVh8Fll53"
      },
      "outputs": [],
      "source": [
        "import pandas as pd\n",
        "import matplotlib.pyplot as plt\n",
        "from google.colab import drive\n",
        "from sklearn.model_selection import train_test_split\n",
        "from sklearn.preprocessing import StandardScaler\n",
        "from sklearn.ensemble import RandomForestClassifier, GradientBoostingClassifier\n",
        "from sklearn.svm import SVC\n",
        "from sklearn.neighbors import KNeighborsClassifier\n",
        "from sklearn.metrics import confusion_matrix, accuracy_score, precision_score, recall_score, f1_score\n",
        "from sklearn.metrics import roc_curve, auc, precision_recall_curve, average_precision_score\n",
        "from sklearn.metrics import classification_report\n",
        "import matplotlib.pyplot as plt\n",
        "import seaborn as sns"
      ]
    },
    {
      "cell_type": "code",
      "source": [
        "drive.mount('/content/drive/')\n",
        "data_path = '/content/drive/MyDrive/Fraud_Detection/Fraud.csv'"
      ],
      "metadata": {
        "colab": {
          "base_uri": "https://localhost:8080/"
        },
        "id": "kEJ7s4oylzad",
        "outputId": "fa55ea62-7e62-44cd-a504-16b785e23e37"
      },
      "execution_count": 4,
      "outputs": [
        {
          "output_type": "stream",
          "name": "stdout",
          "text": [
            "Mounted at /content/drive/\n"
          ]
        }
      ]
    },
    {
      "cell_type": "markdown",
      "source": [
        "# Load Dataset"
      ],
      "metadata": {
        "id": "aB4tkBvKmdU9"
      }
    },
    {
      "cell_type": "code",
      "source": [
        "data = pd.read_csv(data_path)\n",
        "data.describe"
      ],
      "metadata": {
        "colab": {
          "base_uri": "https://localhost:8080/"
        },
        "id": "iJ_vhYVYmROY",
        "outputId": "afe69e91-0827-4c6b-90f4-a7616b7ec6f9"
      },
      "execution_count": 6,
      "outputs": [
        {
          "output_type": "execute_result",
          "data": {
            "text/plain": [
              "<bound method NDFrame.describe of          step      type      amount     nameOrig  oldbalanceOrg  \\\n",
              "0           1   PAYMENT     9839.64  C1231006815      170136.00   \n",
              "1           1   PAYMENT     1864.28  C1666544295       21249.00   \n",
              "2           1  TRANSFER      181.00  C1305486145         181.00   \n",
              "3           1  CASH_OUT      181.00   C840083671         181.00   \n",
              "4           1   PAYMENT    11668.14  C2048537720       41554.00   \n",
              "...       ...       ...         ...          ...            ...   \n",
              "6362615   743  CASH_OUT   339682.13   C786484425      339682.13   \n",
              "6362616   743  TRANSFER  6311409.28  C1529008245     6311409.28   \n",
              "6362617   743  CASH_OUT  6311409.28  C1162922333     6311409.28   \n",
              "6362618   743  TRANSFER   850002.52  C1685995037      850002.52   \n",
              "6362619   743  CASH_OUT   850002.52  C1280323807      850002.52   \n",
              "\n",
              "         newbalanceOrig     nameDest  oldbalanceDest  newbalanceDest  isFraud  \\\n",
              "0             160296.36  M1979787155            0.00            0.00        0   \n",
              "1              19384.72  M2044282225            0.00            0.00        0   \n",
              "2                  0.00   C553264065            0.00            0.00        1   \n",
              "3                  0.00    C38997010        21182.00            0.00        1   \n",
              "4              29885.86  M1230701703            0.00            0.00        0   \n",
              "...                 ...          ...             ...             ...      ...   \n",
              "6362615            0.00   C776919290            0.00       339682.13        1   \n",
              "6362616            0.00  C1881841831            0.00            0.00        1   \n",
              "6362617            0.00  C1365125890        68488.84      6379898.11        1   \n",
              "6362618            0.00  C2080388513            0.00            0.00        1   \n",
              "6362619            0.00   C873221189      6510099.11      7360101.63        1   \n",
              "\n",
              "         isFlaggedFraud  \n",
              "0                     0  \n",
              "1                     0  \n",
              "2                     0  \n",
              "3                     0  \n",
              "4                     0  \n",
              "...                 ...  \n",
              "6362615               0  \n",
              "6362616               0  \n",
              "6362617               0  \n",
              "6362618               0  \n",
              "6362619               0  \n",
              "\n",
              "[6362620 rows x 11 columns]>"
            ]
          },
          "metadata": {},
          "execution_count": 6
        }
      ]
    },
    {
      "cell_type": "markdown",
      "source": [
        "# Data Preprocessing\n",
        "In this section I have done the data preprocessing work.\n",
        "\n",
        "1. Dropping tuples having missing values\n",
        "2. Dropping columns with irrelavent data\n",
        "3. Handling Outliers\n",
        "4. One-Hot Encoding\n",
        "\n"
      ],
      "metadata": {
        "id": "OMcFxwx8rotZ"
      }
    },
    {
      "cell_type": "markdown",
      "source": [
        "## Handling Missing Values"
      ],
      "metadata": {
        "id": "P91WZNY5muP-"
      }
    },
    {
      "cell_type": "code",
      "source": [
        "data.dropna(inplace=True)"
      ],
      "metadata": {
        "id": "Oc4io5YDmg0g"
      },
      "execution_count": 7,
      "outputs": []
    },
    {
      "cell_type": "markdown",
      "source": [
        "## Drop irrelavent columns\n",
        "### I have dropped the 'step', 'nameOrig', 'nameDest' columns based on basic understanding of the problem and the dataset.\n",
        "### In my understanding of the problem, names of the fraudulant or victim does not matter in this scenario."
      ],
      "metadata": {
        "id": "TUd3sC98m1he"
      }
    },
    {
      "cell_type": "code",
      "source": [
        "data.drop(['step', 'nameOrig', 'nameDest'], axis=1, inplace=True)"
      ],
      "metadata": {
        "id": "nJA9-99gmyQ7"
      },
      "execution_count": 8,
      "outputs": []
    },
    {
      "cell_type": "markdown",
      "source": [
        "\n",
        "## Handling Outliers\n",
        "### Outliers in a dataset effect the model rule base, so elimination of these outliers are important.\n",
        "### 'amount' column has outliers are shown by the following box plot, so removing the outliers.\n"
      ],
      "metadata": {
        "id": "10xvXhR3nbnl"
      }
    },
    {
      "cell_type": "code",
      "source": [
        "plt.figure(figsize=(8, 6))\n",
        "plt.boxplot(data['amount'], vert=False)\n",
        "plt.xlabel('Amount')\n",
        "plt.title('Boxplot of Transaction Amount')\n",
        "plt.show()\n",
        "print(data['amount'].describe())"
      ],
      "metadata": {
        "colab": {
          "base_uri": "https://localhost:8080/",
          "height": 720
        },
        "id": "sYZBMoQTnaE3",
        "outputId": "941b5b4b-94a3-4cf3-bc20-7a1bbd79ae1f"
      },
      "execution_count": 14,
      "outputs": [
        {
          "output_type": "display_data",
          "data": {
            "text/plain": [
              "<Figure size 800x600 with 1 Axes>"
            ],
            "image/png": "[encoded data removed]"
          },
          "metadata": {}
        },
        {
          "output_type": "stream",
          "name": "stdout",
          "text": [
            "count    6.362620e+06\n",
            "mean     1.798619e+05\n",
            "std      6.038582e+05\n",
            "min      0.000000e+00\n",
            "25%      1.338957e+04\n",
            "50%      7.487194e+04\n",
            "75%      2.087215e+05\n",
            "max      9.244552e+07\n",
            "Name: amount, dtype: float64\n"
          ]
        }
      ]
    },
    {
      "cell_type": "code",
      "source": [
        "Q1 = data['amount'].quantile(0.25)\n",
        "Q3 = data['amount'].quantile(0.75)\n",
        "IQR = Q3 - Q1\n",
        "data = data[(data['amount'] >= Q1 - 1.5 * IQR) & (data['amount'] <= Q3 + 1.5 * IQR)]"
      ],
      "metadata": {
        "id": "8k8-ZDjvouhJ"
      },
      "execution_count": 15,
      "outputs": []
    },
    {
      "cell_type": "code",
      "source": [
        "data.describe"
      ],
      "metadata": {
        "colab": {
          "base_uri": "https://localhost:8080/"
        },
        "id": "3vqEeY73qQUw",
        "outputId": "68e4cbc6-8053-4bdc-f8bd-b7f1983601b2"
      },
      "execution_count": 16,
      "outputs": [
        {
          "output_type": "execute_result",
          "data": {
            "text/plain": [
              "<bound method NDFrame.describe of              type     amount  oldbalanceOrg  newbalanceOrig  oldbalanceDest  \\\n",
              "0         PAYMENT    9839.64      170136.00       160296.36            0.00   \n",
              "1         PAYMENT    1864.28       21249.00        19384.72            0.00   \n",
              "2        TRANSFER     181.00         181.00            0.00            0.00   \n",
              "3        CASH_OUT     181.00         181.00            0.00        21182.00   \n",
              "4         PAYMENT   11668.14       41554.00        29885.86            0.00   \n",
              "...           ...        ...            ...             ...             ...   \n",
              "6362609  CASH_OUT  258355.42      258355.42            0.00        25176.67   \n",
              "6362610  TRANSFER   63416.99       63416.99            0.00            0.00   \n",
              "6362611  CASH_OUT   63416.99       63416.99            0.00       276433.18   \n",
              "6362614  TRANSFER  339682.13      339682.13            0.00            0.00   \n",
              "6362615  CASH_OUT  339682.13      339682.13            0.00            0.00   \n",
              "\n",
              "         newbalanceDest  isFraud  isFlaggedFraud  \n",
              "0                  0.00        0               0  \n",
              "1                  0.00        0               0  \n",
              "2                  0.00        1               0  \n",
              "3                  0.00        1               0  \n",
              "4                  0.00        0               0  \n",
              "...                 ...      ...             ...  \n",
              "6362609       283532.09        1               0  \n",
              "6362610            0.00        1               0  \n",
              "6362611       339850.17        1               0  \n",
              "6362614            0.00        1               0  \n",
              "6362615       339682.13        1               0  \n",
              "\n",
              "[6024542 rows x 8 columns]>"
            ]
          },
          "metadata": {},
          "execution_count": 16
        }
      ]
    },
    {
      "cell_type": "markdown",
      "source": [
        "## One-Hot Encoding\n",
        "### Column 'type' denotes the type of transaction. The types are : 'PAYMENT', 'TRANSFER', 'CASH_OUT', 'DEBIT', 'CASH_IN'\n",
        "### We need to change these values into 0-1 format, so we perform One-Hot Encoding"
      ],
      "metadata": {
        "id": "rPJuJc4fqWkr"
      }
    },
    {
      "cell_type": "code",
      "source": [
        "df = pd.get_dummies(data, columns=['type'], prefix=['type'])\n",
        "df.head()"
      ],
      "metadata": {
        "colab": {
          "base_uri": "https://localhost:8080/",
          "height": 206
        },
        "id": "7WJCEsCpqTcE",
        "outputId": "63e2349b-1da3-4e36-b6fc-ce660b07e4a8"
      },
      "execution_count": 18,
      "outputs": [
        {
          "output_type": "execute_result",
          "data": {
            "text/plain": [
              "     amount  oldbalanceOrg  newbalanceOrig  oldbalanceDest  newbalanceDest  \\\n",
              "0   9839.64       170136.0       160296.36             0.0             0.0   \n",
              "1   1864.28        21249.0        19384.72             0.0             0.0   \n",
              "2    181.00          181.0            0.00             0.0             0.0   \n",
              "3    181.00          181.0            0.00         21182.0             0.0   \n",
              "4  11668.14        41554.0        29885.86             0.0             0.0   \n",
              "\n",
              "   isFraud  isFlaggedFraud  type_CASH_IN  type_CASH_OUT  type_DEBIT  \\\n",
              "0        0               0             0              0           0   \n",
              "1        0               0             0              0           0   \n",
              "2        1               0             0              0           0   \n",
              "3        1               0             0              1           0   \n",
              "4        0               0             0              0           0   \n",
              "\n",
              "   type_PAYMENT  type_TRANSFER  \n",
              "0             1              0  \n",
              "1             1              0  \n",
              "2             0              1  \n",
              "3             0              0  \n",
              "4             1              0  "
            ],
            "text/html": [
              "\n",
              "  <div id=\"df-f7afd84d-88ba-49e8-bf46-3da3696de6c8\" class=\"colab-df-container\">\n",
              "    <div>\n",
              "<style scoped>\n",
              "    .dataframe tbody tr th:only-of-type {\n",
              "        vertical-align: middle;\n",
              "    }\n",
              "\n",
              "    .dataframe tbody tr th {\n",
              "        vertical-align: top;\n",
              "    }\n",
              "\n",
              "    .dataframe thead th {\n",
              "        text-align: right;\n",
              "    }\n",
              "</style>\n",
              "<table border=\"1\" class=\"dataframe\">\n",
              "  <thead>\n",
              "    <tr style=\"text-align: right;\">\n",
              "      <th></th>\n",
              "      <th>amount</th>\n",
              "      <th>oldbalanceOrg</th>\n",
              "      <th>newbalanceOrig</th>\n",
              "      <th>oldbalanceDest</th>\n",
              "      <th>newbalanceDest</th>\n",
              "      <th>isFraud</th>\n",
              "      <th>isFlaggedFraud</th>\n",
              "      <th>type_CASH_IN</th>\n",
              "      <th>type_CASH_OUT</th>\n",
              "      <th>type_DEBIT</th>\n",
              "      <th>type_PAYMENT</th>\n",
              "      <th>type_TRANSFER</th>\n",
              "    </tr>\n",
              "  </thead>\n",
              "  <tbody>\n",
              "    <tr>\n",
              "      <th>0</th>\n",
              "      <td>9839.64</td>\n",
              "      <td>170136.0</td>\n",
              "      <td>160296.36</td>\n",
              "      <td>0.0</td>\n",
              "      <td>0.0</td>\n",
              "      <td>0</td>\n",
              "      <td>0</td>\n",
              "      <td>0</td>\n",
              "      <td>0</td>\n",
              "      <td>0</td>\n",
              "      <td>1</td>\n",
              "      <td>0</td>\n",
              "    </tr>\n",
              "    <tr>\n",
              "      <th>1</th>\n",
              "      <td>1864.28</td>\n",
              "      <td>21249.0</td>\n",
              "      <td>19384.72</td>\n",
              "      <td>0.0</td>\n",
              "      <td>0.0</td>\n",
              "      <td>0</td>\n",
              "      <td>0</td>\n",
              "      <td>0</td>\n",
              "      <td>0</td>\n",
              "      <td>0</td>\n",
              "      <td>1</td>\n",
              "      <td>0</td>\n",
              "    </tr>\n",
              "    <tr>\n",
              "      <th>2</th>\n",
              "      <td>181.00</td>\n",
              "      <td>181.0</td>\n",
              "      <td>0.00</td>\n",
              "      <td>0.0</td>\n",
              "      <td>0.0</td>\n",
              "      <td>1</td>\n",
              "      <td>0</td>\n",
              "      <td>0</td>\n",
              "      <td>0</td>\n",
              "      <td>0</td>\n",
              "      <td>0</td>\n",
              "      <td>1</td>\n",
              "    </tr>\n",
              "    <tr>\n",
              "      <th>3</th>\n",
              "      <td>181.00</td>\n",
              "      <td>181.0</td>\n",
              "      <td>0.00</td>\n",
              "      <td>21182.0</td>\n",
              "      <td>0.0</td>\n",
              "      <td>1</td>\n",
              "      <td>0</td>\n",
              "      <td>0</td>\n",
              "      <td>1</td>\n",
              "      <td>0</td>\n",
              "      <td>0</td>\n",
              "      <td>0</td>\n",
              "    </tr>\n",
              "    <tr>\n",
              "      <th>4</th>\n",
              "      <td>11668.14</td>\n",
              "      <td>41554.0</td>\n",
              "      <td>29885.86</td>\n",
              "      <td>0.0</td>\n",
              "      <td>0.0</td>\n",
              "      <td>0</td>\n",
              "      <td>0</td>\n",
              "      <td>0</td>\n",
              "      <td>0</td>\n",
              "      <td>0</td>\n",
              "      <td>1</td>\n",
              "      <td>0</td>\n",
              "    </tr>\n",
              "  </tbody>\n",
              "</table>\n",
              "</div>\n",
              "    <div class=\"colab-df-buttons\">\n",
              "\n",
              "  <div class=\"colab-df-container\">\n",
              "    <button class=\"colab-df-convert\" onclick=\"convertToInteractive('df-f7afd84d-88ba-49e8-bf46-3da3696de6c8')\"\n",
              "            title=\"Convert this dataframe to an interactive table.\"\n",
              "            style=\"display:none;\">\n",
              "\n",
              "  <svg xmlns=\"http://www.w3.org/2000/svg\" height=\"24px\" viewBox=\"0 -960 960 960\">\n",
              "    <path d=\"M120-120v-720h720v720H120Zm60-500h600v-160H180v160Zm220 220h160v-160H400v160Zm0 220h160v-160H400v160ZM180-400h160v-160H180v160Zm440 0h160v-160H620v160ZM180-180h160v-160H180v160Zm440 0h160v-160H620v160Z\"/>\n",
              "  </svg>\n",
              "    </button>\n",
              "\n",
              "  <style>\n",
              "    .colab-df-container {\n",
              "      display:flex;\n",
              "      gap: 12px;\n",
              "    }\n",
              "\n",
              "    .colab-df-convert {\n",
              "      background-color: #E8F0FE;\n",
              "      border: none;\n",
              "      border-radius: 50%;\n",
              "      cursor: pointer;\n",
              "      display: none;\n",
              "      fill: #1967D2;\n",
              "      height: 32px;\n",
              "      padding: 0 0 0 0;\n",
              "      width: 32px;\n",
              "    }\n",
              "\n",
              "    .colab-df-convert:hover {\n",
              "      background-color: #E2EBFA;\n",
              "      box-shadow: 0px 1px 2px rgba(60, 64, 67, 0.3), 0px 1px 3px 1px rgba(60, 64, 67, 0.15);\n",
              "      fill: #174EA6;\n",
              "    }\n",
              "\n",
              "    .colab-df-buttons div {\n",
              "      margin-bottom: 4px;\n",
              "    }\n",
              "\n",
              "    [theme=dark] .colab-df-convert {\n",
              "      background-color: #3B4455;\n",
              "      fill: #D2E3FC;\n",
              "    }\n",
              "\n",
              "    [theme=dark] .colab-df-convert:hover {\n",
              "      background-color: #434B5C;\n",
              "      box-shadow: 0px 1px 3px 1px rgba(0, 0, 0, 0.15);\n",
              "      filter: drop-shadow(0px 1px 2px rgba(0, 0, 0, 0.3));\n",
              "      fill: #FFFFFF;\n",
              "    }\n",
              "  </style>\n",
              "\n",
              "    <script>\n",
              "      const buttonEl =\n",
              "        document.querySelector('#df-f7afd84d-88ba-49e8-bf46-3da3696de6c8 button.colab-df-convert');\n",
              "      buttonEl.style.display =\n",
              "        google.colab.kernel.accessAllowed ? 'block' : 'none';\n",
              "\n",
              "      async function convertToInteractive(key) {\n",
              "        const element = document.querySelector('#df-f7afd84d-88ba-49e8-bf46-3da3696de6c8');\n",
              "        const dataTable =\n",
              "          await google.colab.kernel.invokeFunction('convertToInteractive',\n",
              "                                                    [key], {});\n",
              "        if (!dataTable) return;\n",
              "\n",
              "        const docLinkHtml = 'Like what you see? Visit the ' +\n",
              "          '<a target=\"_blank\" href=https://colab.research.google.com/notebooks/data_table.ipynb>data table notebook</a>'\n",
              "          + ' to learn more about interactive tables.';\n",
              "        element.innerHTML = '';\n",
              "        dataTable['output_type'] = 'display_data';\n",
              "        await google.colab.output.renderOutput(dataTable, element);\n",
              "        const docLink = document.createElement('div');\n",
              "        docLink.innerHTML = docLinkHtml;\n",
              "        element.appendChild(docLink);\n",
              "      }\n",
              "    </script>\n",
              "  </div>\n",
              "\n",
              "\n",
              "<div id=\"df-3af495cb-821a-46c7-9166-b5406551f049\">\n",
              "  <button class=\"colab-df-quickchart\" onclick=\"quickchart('df-3af495cb-821a-46c7-9166-b5406551f049')\"\n",
              "            title=\"Suggest charts.\"\n",
              "            style=\"display:none;\">\n",
              "\n",
              "<svg xmlns=\"http://www.w3.org/2000/svg\" height=\"24px\"viewBox=\"0 0 24 24\"\n",
              "     width=\"24px\">\n",
              "    <g>\n",
              "        <path d=\"M19 3H5c-1.1 0-2 .9-2 2v14c0 1.1.9 2 2 2h14c1.1 0 2-.9 2-2V5c0-1.1-.9-2-2-2zM9 17H7v-7h2v7zm4 0h-2V7h2v10zm4 0h-2v-4h2v4z\"/>\n",
              "    </g>\n",
              "</svg>\n",
              "  </button>\n",
              "\n",
              "<style>\n",
              "  .colab-df-quickchart {\n",
              "    background-color: #E8F0FE;\n",
              "    border: none;\n",
              "    border-radius: 50%;\n",
              "    cursor: pointer;\n",
              "    display: none;\n",
              "    fill: #1967D2;\n",
              "    height: 32px;\n",
              "    padding: 0 0 0 0;\n",
              "    width: 32px;\n",
              "  }\n",
              "\n",
              "  .colab-df-quickchart:hover {\n",
              "    background-color: #E2EBFA;\n",
              "    box-shadow: 0px 1px 2px rgba(60, 64, 67, 0.3), 0px 1px 3px 1px rgba(60, 64, 67, 0.15);\n",
              "    fill: #174EA6;\n",
              "  }\n",
              "\n",
              "  [theme=dark] .colab-df-quickchart {\n",
              "    background-color: #3B4455;\n",
              "    fill: #D2E3FC;\n",
              "  }\n",
              "\n",
              "  [theme=dark] .colab-df-quickchart:hover {\n",
              "    background-color: #434B5C;\n",
              "    box-shadow: 0px 1px 3px 1px rgba(0, 0, 0, 0.15);\n",
              "    filter: drop-shadow(0px 1px 2px rgba(0, 0, 0, 0.3));\n",
              "    fill: #FFFFFF;\n",
              "  }\n",
              "</style>\n",
              "\n",
              "  <script>\n",
              "    async function quickchart(key) {\n",
              "      const charts = await google.colab.kernel.invokeFunction(\n",
              "          'suggestCharts', [key], {});\n",
              "    }\n",
              "    (() => {\n",
              "      let quickchartButtonEl =\n",
              "        document.querySelector('#df-3af495cb-821a-46c7-9166-b5406551f049 button');\n",
              "      quickchartButtonEl.style.display =\n",
              "        google.colab.kernel.accessAllowed ? 'block' : 'none';\n",
              "    })();\n",
              "  </script>\n",
              "</div>\n",
              "    </div>\n",
              "  </div>\n"
            ]
          },
          "metadata": {},
          "execution_count": 18
        }
      ]
    },
    {
      "cell_type": "markdown",
      "source": [
        "# Machine Learning Classification (Model Training)\n",
        "Both Random Forrest and Gradient Boosting are a good choice for this problem.\n",
        "As we can see, it is a classification problem, that is, the output required is the decion between two classes(for this case). The data set very very huge and has a lot of features after preprocessing, so using Random Forrest and Gradient Boosting makes sense."
      ],
      "metadata": {
        "id": "pl9KsGY-sYgJ"
      }
    },
    {
      "cell_type": "markdown",
      "source": [
        "## Split data into features (X) and target (y)"
      ],
      "metadata": {
        "id": "KhlfEToUseBB"
      }
    },
    {
      "cell_type": "code",
      "source": [
        "X = df.drop('isFraud', axis=1)\n",
        "y = df['isFraud']"
      ],
      "metadata": {
        "id": "4LgWKzJ4rDBZ"
      },
      "execution_count": 19,
      "outputs": []
    },
    {
      "cell_type": "markdown",
      "source": [
        "## Split data into training and testing sets\n"
      ],
      "metadata": {
        "id": "Odou-CmJslbZ"
      }
    },
    {
      "cell_type": "code",
      "source": [
        "X_train, X_test, y_train, y_test = train_test_split(X, y, test_size=0.2, random_state=42)\n"
      ],
      "metadata": {
        "id": "Kthb2cISsk1r"
      },
      "execution_count": 20,
      "outputs": []
    },
    {
      "cell_type": "markdown",
      "source": [
        "## Feature scaling\n"
      ],
      "metadata": {
        "id": "CPhzGYkwsvwI"
      }
    },
    {
      "cell_type": "code",
      "source": [
        "scaler = StandardScaler()\n",
        "X_train_scaled = scaler.fit_transform(X_train)\n",
        "X_test_scaled = scaler.transform(X_test)"
      ],
      "metadata": {
        "id": "TpPVvpXVstq2"
      },
      "execution_count": 21,
      "outputs": []
    },
    {
      "cell_type": "markdown",
      "source": [
        "## Initialize classifiers\n"
      ],
      "metadata": {
        "id": "9bk0NhHqs40R"
      }
    },
    {
      "cell_type": "code",
      "source": [
        "rf_classifier = RandomForestClassifier()\n",
        "gb_classifier = GradientBoostingClassifier()"
      ],
      "metadata": {
        "id": "2ondX_oQs1GZ"
      },
      "execution_count": 22,
      "outputs": []
    },
    {
      "cell_type": "markdown",
      "source": [
        "## Fit classifiers on the training data\n"
      ],
      "metadata": {
        "id": "MYWNT_GWtPDv"
      }
    },
    {
      "cell_type": "code",
      "source": [
        "rf_classifier.fit(X_train_scaled, y_train)\n",
        "gb_classifier.fit(X_train_scaled, y_train)"
      ],
      "metadata": {
        "colab": {
          "base_uri": "https://localhost:8080/",
          "height": 74
        },
        "id": "EGgV5tmts8ro",
        "outputId": "339f2013-ca79-4edc-ff3f-ee22c13d682c"
      },
      "execution_count": 23,
      "outputs": [
        {
          "output_type": "execute_result",
          "data": {
            "text/plain": [
              "GradientBoostingClassifier()"
            ],
            "text/html": [
              "<style>#sk-container-id-1 {color: black;background-color: white;}#sk-container-id-1 pre{padding: 0;}#sk-container-id-1 div.sk-toggleable {background-color: white;}#sk-container-id-1 label.sk-toggleable__label {cursor: pointer;display: block;width: 100%;margin-bottom: 0;padding: 0.3em;box-sizing: border-box;text-align: center;}#sk-container-id-1 label.sk-toggleable__label-arrow:before {content: \"▸\";float: left;margin-right: 0.25em;color: #696969;}#sk-container-id-1 label.sk-toggleable__label-arrow:hover:before {color: black;}#sk-container-id-1 div.sk-estimator:hover label.sk-toggleable__label-arrow:before {color: black;}#sk-container-id-1 div.sk-toggleable__content {max-height: 0;max-width: 0;overflow: hidden;text-align: left;background-color: #f0f8ff;}#sk-container-id-1 div.sk-toggleable__content pre {margin: 0.2em;color: black;border-radius: 0.25em;background-color: #f0f8ff;}#sk-container-id-1 input.sk-toggleable__control:checked~div.sk-toggleable__content {max-height: 200px;max-width: 100%;overflow: auto;}#sk-container-id-1 input.sk-toggleable__control:checked~label.sk-toggleable__label-arrow:before {content: \"▾\";}#sk-container-id-1 div.sk-estimator input.sk-toggleable__control:checked~label.sk-toggleable__label {background-color: #d4ebff;}#sk-container-id-1 div.sk-label input.sk-toggleable__control:checked~label.sk-toggleable__label {background-color: #d4ebff;}#sk-container-id-1 input.sk-hidden--visually {border: 0;clip: rect(1px 1px 1px 1px);clip: rect(1px, 1px, 1px, 1px);height: 1px;margin: -1px;overflow: hidden;padding: 0;position: absolute;width: 1px;}#sk-container-id-1 div.sk-estimator {font-family: monospace;background-color: #f0f8ff;border: 1px dotted black;border-radius: 0.25em;box-sizing: border-box;margin-bottom: 0.5em;}#sk-container-id-1 div.sk-estimator:hover {background-color: #d4ebff;}#sk-container-id-1 div.sk-parallel-item::after {content: \"\";width: 100%;border-bottom: 1px solid gray;flex-grow: 1;}#sk-container-id-1 div.sk-label:hover label.sk-toggleable__label {background-color: #d4ebff;}#sk-container-id-1 div.sk-serial::before {content: \"\";position: absolute;border-left: 1px solid gray;box-sizing: border-box;top: 0;bottom: 0;left: 50%;z-index: 0;}#sk-container-id-1 div.sk-serial {display: flex;flex-direction: column;align-items: center;background-color: white;padding-right: 0.2em;padding-left: 0.2em;position: relative;}#sk-container-id-1 div.sk-item {position: relative;z-index: 1;}#sk-container-id-1 div.sk-parallel {display: flex;align-items: stretch;justify-content: center;background-color: white;position: relative;}#sk-container-id-1 div.sk-item::before, #sk-container-id-1 div.sk-parallel-item::before {content: \"\";position: absolute;border-left: 1px solid gray;box-sizing: border-box;top: 0;bottom: 0;left: 50%;z-index: -1;}#sk-container-id-1 div.sk-parallel-item {display: flex;flex-direction: column;z-index: 1;position: relative;background-color: white;}#sk-container-id-1 div.sk-parallel-item:first-child::after {align-self: flex-end;width: 50%;}#sk-container-id-1 div.sk-parallel-item:last-child::after {align-self: flex-start;width: 50%;}#sk-container-id-1 div.sk-parallel-item:only-child::after {width: 0;}#sk-container-id-1 div.sk-dashed-wrapped {border: 1px dashed gray;margin: 0 0.4em 0.5em 0.4em;box-sizing: border-box;padding-bottom: 0.4em;background-color: white;}#sk-container-id-1 div.sk-label label {font-family: monospace;font-weight: bold;display: inline-block;line-height: 1.2em;}#sk-container-id-1 div.sk-label-container {text-align: center;}#sk-container-id-1 div.sk-container {/* jupyter's `normalize.less` sets `[hidden] { display: none; }` but bootstrap.min.css set `[hidden] { display: none !important; }` so we also need the `!important` here to be able to override the default hidden behavior on the sphinx rendered scikit-learn.org. See: https://github.com/scikit-learn/scikit-learn/issues/21755 */display: inline-block !important;position: relative;}#sk-container-id-1 div.sk-text-repr-fallback {display: none;}</style><div id=\"sk-container-id-1\" class=\"sk-top-container\"><div class=\"sk-text-repr-fallback\"><pre>GradientBoostingClassifier()</pre><b>In a Jupyter environment, please rerun this cell to show the HTML representation or trust the notebook. <br />On GitHub, the HTML representation is unable to render, please try loading this page with nbviewer.org.</b></div><div class=\"sk-container\" hidden><div class=\"sk-item\"><div class=\"sk-estimator sk-toggleable\"><input class=\"sk-toggleable__control sk-hidden--visually\" id=\"sk-estimator-id-1\" type=\"checkbox\" checked><label for=\"sk-estimator-id-1\" class=\"sk-toggleable__label sk-toggleable__label-arrow\">GradientBoostingClassifier</label><div class=\"sk-toggleable__content\"><pre>GradientBoostingClassifier()</pre></div></div></div></div></div>"
            ]
          },
          "metadata": {},
          "execution_count": 23
        }
      ]
    },
    {
      "cell_type": "markdown",
      "source": [
        "## Predictions"
      ],
      "metadata": {
        "id": "ebbPFOXvtTpM"
      }
    },
    {
      "cell_type": "code",
      "source": [
        "y_pred_rf = rf_classifier.predict(X_test_scaled)\n",
        "y_pred_gb = gb_classifier.predict(X_test_scaled)"
      ],
      "metadata": {
        "id": "qirEe40itSpF"
      },
      "execution_count": 24,
      "outputs": []
    },
    {
      "cell_type": "markdown",
      "source": [
        "# Confusion Matrix and Classification Reports\n",
        "This sections deals with analysis of the models based on the confusion matrix and classification reports(accuracy, recall, precision and f1_score)."
      ],
      "metadata": {
        "id": "GP44urCdthaw"
      }
    },
    {
      "cell_type": "code",
      "source": [
        "def show_cm(y_pred, name):\n",
        "  # Calculate confusion matrix\n",
        "  cm = confusion_matrix(y_test, y_pred)\n",
        "\n",
        "  # Calculate accuracy\n",
        "  accuracy = accuracy_score(y_test, y_pred)\n",
        "\n",
        "  # Calculate precision, recall, and f1-score\n",
        "  precision = precision_score(y_test, y_pred)\n",
        "  recall = recall_score(y_test, y_pred)\n",
        "  f1 = f1_score(y_test, y_pred)\n",
        "\n",
        "  # Print the confusion matrix\n",
        "  plt.figure(figsize=(8, 6))\n",
        "  sns.heatmap(cm, annot=True, fmt=\"d\", cmap=\"Blues\", xticklabels=['Not Fraud', 'Fraud'], yticklabels=['Not Fraud', 'Fraud'])\n",
        "  plt.xlabel('Predicted')\n",
        "  plt.ylabel('Actual')\n",
        "  plt.title(f'Confusion Matrix for {name}')\n",
        "  plt.show()\n",
        "\n",
        "  # Print accuracy, precision, recall, and f1-score\n",
        "  print(\"Accuracy:\", accuracy)\n",
        "  print(\"Precision:\", precision)\n",
        "  print(\"Recall:\", recall)\n",
        "  print(\"F1-Score:\", f1)"
      ],
      "metadata": {
        "id": "2HkV8J10SuYe"
      },
      "execution_count": 46,
      "outputs": []
    },
    {
      "cell_type": "markdown",
      "source": [
        "## For Random Forrest"
      ],
      "metadata": {
        "id": "etiPhGRmSmNm"
      }
    },
    {
      "cell_type": "code",
      "source": [
        "show_cm(y_pred_rf, \"Random Forrest Classifier\")"
      ],
      "metadata": {
        "colab": {
          "base_uri": "https://localhost:8080/",
          "height": 633
        },
        "id": "U4oZPd7atsxj",
        "outputId": "6005d341-b8b0-4183-cc44-d6423f820e99"
      },
      "execution_count": 47,
      "outputs": [
        {
          "output_type": "display_data",
          "data": {
            "text/plain": [
              "<Figure size 800x600 with 2 Axes>"
            ],
            "image/png": "[encoded data removed]"
          },
          "metadata": {}
        },
        {
          "output_type": "stream",
          "name": "stdout",
          "text": [
            "Accuracy: 0.9996721744131715\n",
            "Precision: 0.941712204007286\n",
            "Recall: 0.5875\n",
            "F1-Score: 0.7235829251224632\n"
          ]
        }
      ]
    },
    {
      "cell_type": "code",
      "source": [
        "show_cm(y_pred_rf, \"Gradient Boosting Classifier\")"
      ],
      "metadata": {
        "colab": {
          "base_uri": "https://localhost:8080/",
          "height": 633
        },
        "id": "-qME3P0aE66P",
        "outputId": "910a67d6-cc64-451d-9f99-89ad86301b95"
      },
      "execution_count": 48,
      "outputs": [
        {
          "output_type": "display_data",
          "data": {
            "text/plain": [
              "<Figure size 800x600 with 2 Axes>"
            ],
            "image/png": "[encoded data removed]"
          },
          "metadata": {}
        },
        {
          "output_type": "stream",
          "name": "stdout",
          "text": [
            "Accuracy: 0.9996721744131715\n",
            "Precision: 0.941712204007286\n",
            "Recall: 0.5875\n",
            "F1-Score: 0.7235829251224632\n"
          ]
        }
      ]
    },
    {
      "cell_type": "markdown",
      "source": [
        "### **As we can see, the precision, recall and f1_score of gradient boosting is 0.0. This may be due to overfitting of the model. Gradient Bossting works well with large dataset but is also prone to overfitting.**\n",
        "\n",
        "### **So now we are going to discard the gradient boosting model.**\n",
        "\n",
        "### **Random Forest is our final model now!**"
      ],
      "metadata": {
        "id": "Ve1wioazRBc3"
      }
    },
    {
      "cell_type": "markdown",
      "source": [
        "# Finding Key Factors\n",
        "In this section, key features analysis of the best performing model is done."
      ],
      "metadata": {
        "id": "pX8jQ-i0JEFG"
      }
    },
    {
      "cell_type": "code",
      "source": [
        "def getImportance(curr_model):\n",
        "  # Get feature importances from the model\n",
        "  feature_importances = curr_model.feature_importances_\n",
        "\n",
        "  # Get the column names from X_train_scaled\n",
        "  column_names = X.columns\n",
        "\n",
        "  # Create a DataFrame to show feature importance\n",
        "  feature_importance_df = pd.DataFrame({'Feature': column_names, 'Importance': feature_importances})\n",
        "\n",
        "  # Sort the DataFrame by importance in descending order\n",
        "  feature_importance_df = feature_importance_df.sort_values(by='Importance', ascending=False)\n",
        "\n",
        "  # Plotting feature importances\n",
        "  plt.figure(figsize=(10, 6))\n",
        "  plt.barh(feature_importance_df['Feature'], feature_importance_df['Importance'])\n",
        "  plt.xlabel('Importance')\n",
        "  plt.ylabel('Feature')\n",
        "  plt.title('Feature Importances')\n",
        "  plt.show()\n",
        "\n",
        "  # Display the top N key factors\n",
        "  top_n = 11  # Change this value to the number of top factors you want to display\n",
        "  print(f'Key Factors for Predicting Fraudulent Customers:')\n",
        "  print(feature_importance_df.head(top_n))\n"
      ],
      "metadata": {
        "id": "KTsC-EKHFvCz"
      },
      "execution_count": 39,
      "outputs": []
    },
    {
      "cell_type": "markdown",
      "source": [
        "## For Random Forrest"
      ],
      "metadata": {
        "id": "z5AaY058JSS8"
      }
    },
    {
      "cell_type": "code",
      "source": [
        "getImportance(rf_classifier)"
      ],
      "metadata": {
        "colab": {
          "base_uri": "https://localhost:8080/",
          "height": 790
        },
        "id": "t-UcFNoAI1Li",
        "outputId": "df5add1c-7394-4ed0-94b8-917453aa687b"
      },
      "execution_count": 40,
      "outputs": [
        {
          "output_type": "display_data",
          "data": {
            "text/plain": [
              "<Figure size 1000x600 with 1 Axes>"
            ],
            "image/png": "[encoded data removed]"
          },
          "metadata": {}
        },
        {
          "output_type": "stream",
          "name": "stdout",
          "text": [
            "Key Factors for Predicting Fraudulent Customers:\n",
            "           Feature  Importance\n",
            "4   newbalanceDest    0.382996\n",
            "1    oldbalanceOrg    0.239306\n",
            "0           amount    0.188741\n",
            "3   oldbalanceDest    0.115090\n",
            "10   type_TRANSFER    0.044064\n",
            "2   newbalanceOrig    0.016460\n",
            "7    type_CASH_OUT    0.011746\n",
            "9     type_PAYMENT    0.000950\n",
            "6     type_CASH_IN    0.000320\n",
            "5   isFlaggedFraud    0.000262\n",
            "8       type_DEBIT    0.000064\n"
          ]
        }
      ]
    },
    {
      "cell_type": "markdown",
      "source": [
        "In the above output we can see that the dominating factors or the most important features for the random forest model with the threshhold involvement of 10% are: newbalanceDest(0.382996), oldbalanceOrg(0.239306), amount(0.188741) and oldbalanceDest(0.115090).\n",
        "\n",
        "All of this make sense, let me explain how:\n",
        "1. **newbalanceDest**: It is the balance of the recepient after the transaction. A fradulant transaction is initiated after gauging the net income by the fraudster.\n",
        "2. **oldbalanceOrg**: It is the balance of the originating account before the transaction takes place. A fraudster will likely target a person with a lot of money, so while doing this analysis, the fraudster will definetly take into account the balance of the individual he is willing to cheat.\n",
        "3. **amount**: It goes without saying that the amount of transaction will be key to determine the fraud.\n",
        "4. **oldbalanceDest**: Old balance of the recepient will also be important as the fraudulent will likely make a new bank account to commence the fraud. It is also seen that this figure iss generally low for tuples that show fraudulent transactions.\n",
        "\n",
        "Also, we can clearly see that the type of transaction does not matter in the fraud detection scenario. This is beacause fradulent transactions can take place in the form of any type of transaction.\n",
        "Moreover, 'isFlaggedFraud' is also not at all important."
      ],
      "metadata": {
        "id": "CB78ZdckenZP"
      }
    },
    {
      "cell_type": "markdown",
      "source": [
        "# Concluding remarks"
      ],
      "metadata": {
        "id": "JLjrNbqSehJO"
      }
    },
    {
      "cell_type": "markdown",
      "source": [
        "Fraud detection is one of the most basic problems in the machine learning space. It is helpful to have a model that can classify between a fradulent transaction and a normal one so that measures can be taken as soon as possible. Such systems adds another layer of protection in the already fairly secure banking systems."
      ],
      "metadata": {
        "id": "j5otpsFwhoMl"
      }
    },
    {
      "cell_type": "markdown",
      "source": [
        "The above code tries to analyze a large dataset of transactions and build a model that can classify between a fradulent and a normal transaction.\n",
        "All the selected features were numeric barring one. This categorical column was handled with the use of one-hot encoding.\n",
        "Due to the size of the data set, Random Forrest classifier was used."
      ],
      "metadata": {
        "id": "ljAR5jn8iG3e"
      }
    },
    {
      "cell_type": "markdown",
      "source": [
        "## What kind of prevention should be adopted while company update its infrastructure?\n",
        "\n",
        "Throuh the above analysis following conclusions can be made:\n",
        "1. Type of transaction is not important\n",
        "2. Balance before and after the transactions is crucial\n",
        "3. The existing business model flagging the transactions does not work.\n",
        "\n",
        "So, I propose, the existing system of flagging of a transaction if it exceeds 200.000, should be discontinued, as it is proven by my analysis that it is working very poorly.\n",
        "\n",
        "Secondly, the problem of fraudulent transaction mainly depends on the balances of the originating and the destination accounts, so new account holders should be monitored. New account holders should verified using government portals and there intensions of using an account should be made sure of.\n",
        "\n"
      ],
      "metadata": {
        "id": "2A2DAQLii-ZL"
      }
    },
    {
      "cell_type": "markdown",
      "source": [
        "## Assuming these actions have been implemented, how would you determine if they work?\n",
        "\n",
        "Reviews can be conducted. After a period of 30 days, again the same analysis can be performed to check the status of the system."
      ],
      "metadata": {
        "id": "RbirF4OqlVYy"
      }
    },
    {
      "cell_type": "code",
      "source": [],
      "metadata": {
        "id": "rGyUJJGYOqdn"
      },
      "execution_count": null,
      "outputs": []
    }
  ]
}